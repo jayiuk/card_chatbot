{
 "cells": [
  {
   "cell_type": "code",
   "execution_count": 1,
   "metadata": {},
   "outputs": [
    {
     "data": {
      "text/plain": [
       "('ChatBotData.csv', <http.client.HTTPMessage at 0x231cb3a9050>)"
      ]
     },
     "execution_count": 1,
     "metadata": {},
     "output_type": "execute_result"
    }
   ],
   "source": [
    "import urllib.request\n",
    "urllib.request.urlretrieve(\"https://raw.githubusercontent.com/songys/Chatbot_data/master/ChatbotData.csv\", filename = \"ChatBotData.csv\")"
   ]
  },
  {
   "cell_type": "code",
   "execution_count": 1,
   "metadata": {},
   "outputs": [
    {
     "data": {
      "text/html": [
       "<div>\n",
       "<style scoped>\n",
       "    .dataframe tbody tr th:only-of-type {\n",
       "        vertical-align: middle;\n",
       "    }\n",
       "\n",
       "    .dataframe tbody tr th {\n",
       "        vertical-align: top;\n",
       "    }\n",
       "\n",
       "    .dataframe thead th {\n",
       "        text-align: right;\n",
       "    }\n",
       "</style>\n",
       "<table border=\"1\" class=\"dataframe\">\n",
       "  <thead>\n",
       "    <tr style=\"text-align: right;\">\n",
       "      <th></th>\n",
       "      <th>Q</th>\n",
       "      <th>A</th>\n",
       "      <th>label</th>\n",
       "    </tr>\n",
       "  </thead>\n",
       "  <tbody>\n",
       "    <tr>\n",
       "      <th>0</th>\n",
       "      <td>12시 땡!</td>\n",
       "      <td>하루가 또 가네요.</td>\n",
       "      <td>0</td>\n",
       "    </tr>\n",
       "    <tr>\n",
       "      <th>1</th>\n",
       "      <td>1지망 학교 떨어졌어</td>\n",
       "      <td>위로해 드립니다.</td>\n",
       "      <td>0</td>\n",
       "    </tr>\n",
       "    <tr>\n",
       "      <th>2</th>\n",
       "      <td>3박4일 놀러가고 싶다</td>\n",
       "      <td>여행은 언제나 좋죠.</td>\n",
       "      <td>0</td>\n",
       "    </tr>\n",
       "    <tr>\n",
       "      <th>3</th>\n",
       "      <td>3박4일 정도 놀러가고 싶다</td>\n",
       "      <td>여행은 언제나 좋죠.</td>\n",
       "      <td>0</td>\n",
       "    </tr>\n",
       "    <tr>\n",
       "      <th>4</th>\n",
       "      <td>PPL 심하네</td>\n",
       "      <td>눈살이 찌푸려지죠.</td>\n",
       "      <td>0</td>\n",
       "    </tr>\n",
       "    <tr>\n",
       "      <th>...</th>\n",
       "      <td>...</td>\n",
       "      <td>...</td>\n",
       "      <td>...</td>\n",
       "    </tr>\n",
       "    <tr>\n",
       "      <th>4895</th>\n",
       "      <td>2024년 1월 1일부터 2719년 1월 1일까지 며칠인가요?</td>\n",
       "      <td>2024년 1월 1일부터 2719년 1월 1일까지는 253675일입니다.</td>\n",
       "      <td>4</td>\n",
       "    </tr>\n",
       "    <tr>\n",
       "      <th>4896</th>\n",
       "      <td>2024년 1월 1일부터 2720년 1월 1일까지 며칠인가요?</td>\n",
       "      <td>2024년 1월 1일부터 2720년 1월 1일까지는 254040일입니다.</td>\n",
       "      <td>4</td>\n",
       "    </tr>\n",
       "    <tr>\n",
       "      <th>4897</th>\n",
       "      <td>2024년 1월 1일부터 2721년 1월 1일까지 며칠인가요?</td>\n",
       "      <td>2024년 1월 1일부터 2721년 1월 1일까지는 254405일입니다.</td>\n",
       "      <td>4</td>\n",
       "    </tr>\n",
       "    <tr>\n",
       "      <th>4898</th>\n",
       "      <td>2024년 1월 1일부터 2722년 1월 1일까지 며칠인가요?</td>\n",
       "      <td>2024년 1월 1일부터 2722년 1월 1일까지는 254770일입니다.</td>\n",
       "      <td>4</td>\n",
       "    </tr>\n",
       "    <tr>\n",
       "      <th>4899</th>\n",
       "      <td>2024년 1월 1일부터 2723년 1월 1일까지 며칠인가요?</td>\n",
       "      <td>2024년 1월 1일부터 2723년 1월 1일까지는 255135일입니다.</td>\n",
       "      <td>4</td>\n",
       "    </tr>\n",
       "  </tbody>\n",
       "</table>\n",
       "<p>16723 rows × 3 columns</p>\n",
       "</div>"
      ],
      "text/plain": [
       "                                       Q  \\\n",
       "0                                 12시 땡!   \n",
       "1                            1지망 학교 떨어졌어   \n",
       "2                           3박4일 놀러가고 싶다   \n",
       "3                        3박4일 정도 놀러가고 싶다   \n",
       "4                                PPL 심하네   \n",
       "...                                  ...   \n",
       "4895  2024년 1월 1일부터 2719년 1월 1일까지 며칠인가요?   \n",
       "4896  2024년 1월 1일부터 2720년 1월 1일까지 며칠인가요?   \n",
       "4897  2024년 1월 1일부터 2721년 1월 1일까지 며칠인가요?   \n",
       "4898  2024년 1월 1일부터 2722년 1월 1일까지 며칠인가요?   \n",
       "4899  2024년 1월 1일부터 2723년 1월 1일까지 며칠인가요?   \n",
       "\n",
       "                                             A  label  \n",
       "0                                   하루가 또 가네요.      0  \n",
       "1                                    위로해 드립니다.      0  \n",
       "2                                  여행은 언제나 좋죠.      0  \n",
       "3                                  여행은 언제나 좋죠.      0  \n",
       "4                                   눈살이 찌푸려지죠.      0  \n",
       "...                                        ...    ...  \n",
       "4895  2024년 1월 1일부터 2719년 1월 1일까지는 253675일입니다.      4  \n",
       "4896  2024년 1월 1일부터 2720년 1월 1일까지는 254040일입니다.      4  \n",
       "4897  2024년 1월 1일부터 2721년 1월 1일까지는 254405일입니다.      4  \n",
       "4898  2024년 1월 1일부터 2722년 1월 1일까지는 254770일입니다.      4  \n",
       "4899  2024년 1월 1일부터 2723년 1월 1일까지는 255135일입니다.      4  \n",
       "\n",
       "[16723 rows x 3 columns]"
      ]
     },
     "execution_count": 1,
     "metadata": {},
     "output_type": "execute_result"
    }
   ],
   "source": [
    "import pandas as pd\n",
    "data_1 = pd.read_csv('./ChatBotData.csv')\n",
    "data_2 = pd.read_csv('./qa_dataset.csv')\n",
    "data = pd.concat([data_1, data_2])\n",
    "data"
   ]
  },
  {
   "cell_type": "code",
   "execution_count": 2,
   "metadata": {},
   "outputs": [],
   "source": [
    "data.to_csv('data.csv', index = False)"
   ]
  },
  {
   "cell_type": "code",
   "execution_count": null,
   "metadata": {},
   "outputs": [],
   "source": []
  }
 ],
 "metadata": {
  "kernelspec": {
   "display_name": "nlp",
   "language": "python",
   "name": "python3"
  },
  "language_info": {
   "codemirror_mode": {
    "name": "ipython",
    "version": 3
   },
   "file_extension": ".py",
   "mimetype": "text/x-python",
   "name": "python",
   "nbconvert_exporter": "python",
   "pygments_lexer": "ipython3",
   "version": "3.11.7"
  }
 },
 "nbformat": 4,
 "nbformat_minor": 2
}
