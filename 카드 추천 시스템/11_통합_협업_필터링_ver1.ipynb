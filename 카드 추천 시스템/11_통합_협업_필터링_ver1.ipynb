{
  "cells": [
    {
      "cell_type": "markdown",
      "metadata": {
        "id": "-_MqYAkJYcF7"
      },
      "source": [
        "# 1. Library Import"
      ]
    },
    {
      "cell_type": "code",
      "execution_count": null,
      "metadata": {
        "colab": {
          "base_uri": "https://localhost:8080/"
        },
        "id": "QpBk3W-Ca4xs",
        "outputId": "2e6ae12c-577b-47fb-f991-e6c4ea00bf8e"
      },
      "outputs": [],
      "source": [
        "pip install pacmap\n"
      ]
    },
    {
      "cell_type": "code",
      "execution_count": null,
      "metadata": {
        "colab": {
          "base_uri": "https://localhost:8080/"
        },
        "id": "jQcz3zKDGqVk",
        "outputId": "f8294d1f-6763-4401-dc44-595f1c936b43"
      },
      "outputs": [],
      "source": [
        "%matplotlib inline\n",
        "\n",
        "import matplotlib as mpl  # 기본 설정\n",
        "import matplotlib.pyplot as plt  # 그래프 그리기\n",
        "import matplotlib.font_manager as fm  # 폰트 관리\n",
        "\n",
        "\n",
        "!apt-get update -qq         # apt-get 패키지 설치 명령어, -qq : 에러외 메세지 숨기기\n",
        "!apt-get install fonts-nanum* -qq #나눔글꼴 설치\n",
        "\n",
        "fe = fm.FontEntry(fname=r'/usr/share/fonts/truetype/nanum/NanumGothic.ttf', name='NanumGothic') #파일 저장되어있는 경로와 이름 설정\n",
        "fm.fontManager.ttflist.insert(0, fe)  # Matplotlib에 폰트 추가\n",
        "plt.rcParams.update({'font.size': 10, 'font.family': 'NanumGothic'}) #폰트설정\n",
        "\n"
      ]
    },
    {
      "cell_type": "code",
      "execution_count": null,
      "metadata": {
        "id": "oBC9s8VWa4Um"
      },
      "outputs": [],
      "source": [
        "import pandas as pd\n",
        "import numpy as np\n",
        "import seaborn as sns\n",
        "import matplotlib.pyplot as plt\n",
        "from sklearn.preprocessing import StandardScaler\n",
        "from sklearn.decomposition import PCA\n",
        "from sklearn.cluster import KMeans\n",
        "from sklearn.neighbors import KernelDensity\n",
        "import pacmap\n"
      ]
    },
    {
      "cell_type": "markdown",
      "metadata": {
        "id": "gS8-mRmYYizh"
      },
      "source": [
        "# 2. 데이터 확인 및 전처리"
      ]
    },
    {
      "cell_type": "code",
      "execution_count": null,
      "metadata": {
        "id": "A1P-E11kaMsf"
      },
      "outputs": [],
      "source": [
        "df_transactions = pd.read_csv('/content/drive/MyDrive/Colab Notebooks/KB/card_transaction2.csv')\n",
        "\n",
        "credit = pd.read_csv('/content/drive/MyDrive/Colab Notebooks/KB/card.csv')\n"
      ]
    },
    {
      "cell_type": "code",
      "execution_count": null,
      "metadata": {
        "id": "EJorNSZ1bgi7"
      },
      "outputs": [],
      "source": [
        "df_sum = df_transactions.drop('날짜',axis=1)\n",
        "df_sum = df_sum.groupby(['고객번호']).sum()"
      ]
    },
    {
      "cell_type": "code",
      "execution_count": null,
      "metadata": {
        "colab": {
          "base_uri": "https://localhost:8080/",
          "height": 544
        },
        "id": "3QnktzQl-g99",
        "outputId": "1f272a01-8f92-429c-da92-46df025cd120"
      },
      "outputs": [],
      "source": [
        "df_sum"
      ]
    },
    {
      "cell_type": "code",
      "execution_count": null,
      "metadata": {
        "colab": {
          "base_uri": "https://localhost:8080/",
          "height": 1000
        },
        "id": "BmO_GUCmGPzj",
        "outputId": "faa2d61d-f6a7-4a1a-b18f-65401c04ef1a"
      },
      "outputs": [],
      "source": [
        "# 데이터 분포 확인\n",
        "print(df_sum.describe())\n",
        "\n",
        "# 박스 플롯 그리기\n",
        "plt.figure(figsize=(20,6))\n",
        "sns.boxplot(data=df_sum)\n",
        "plt.title(\"Payment Data Distribution\")\n",
        "plt.show()"
      ]
    },
    {
      "cell_type": "code",
      "execution_count": null,
      "metadata": {
        "id": "zbtAJp8xbn9m"
      },
      "outputs": [],
      "source": [
        "df_sum2 = df_sum.drop(['부동산','여행','자동차','항공사','기기','기타'],axis=1)\n"
      ]
    },
    {
      "cell_type": "code",
      "execution_count": null,
      "metadata": {
        "colab": {
          "base_uri": "https://localhost:8080/",
          "height": 373
        },
        "id": "m7Dl3xnwHx-e",
        "outputId": "232f4a7a-e8b6-4e2a-8c90-68b54f20083c"
      },
      "outputs": [],
      "source": [
        "# 박스 플롯 그리기\n",
        "plt.figure(figsize=(20,6))\n",
        "sns.boxplot(data=df_sum2)\n",
        "plt.title(\"Payment Data Distribution\")\n",
        "plt.show()\n"
      ]
    },
    {
      "cell_type": "markdown",
      "metadata": {
        "id": "ZzNnxPHqY3kN"
      },
      "source": [
        "# 3. 데이터 스케일링 - 표준화"
      ]
    },
    {
      "cell_type": "code",
      "execution_count": null,
      "metadata": {
        "id": "xRC-uU18bqjO"
      },
      "outputs": [],
      "source": [
        "# 데이터 표준화\n",
        "from sklearn.preprocessing import StandardScaler\n",
        "scaler = StandardScaler()\n",
        "\n",
        "scaled_df = scaler.fit_transform(df_sum2)"
      ]
    },
    {
      "cell_type": "markdown",
      "metadata": {
        "id": "z62swjUBY8LR"
      },
      "source": [
        "# 4. K-Means Clustering"
      ]
    },
    {
      "cell_type": "markdown",
      "metadata": {
        "id": "_Jj3KAtKZHEa"
      },
      "source": [
        "## 4.1. PaCMAP 차원 축소"
      ]
    },
    {
      "cell_type": "code",
      "execution_count": null,
      "metadata": {
        "id": "sWSi3BJgbu8y"
      },
      "outputs": [],
      "source": [
        "# PaCMAP 객체 생성\n",
        "embedding = pacmap.PaCMAP(\n",
        "    n_components=2,         # 2차원으로 축소\n",
        "    n_neighbors=None,       # 기본값은 None으로, 데이터에 따라 설정\n",
        "    MN_ratio=0.5,          # MN 비율\n",
        "    FP_ratio=2.0           # FP 비율\n",
        ")\n",
        "\n",
        "# 데이터 변환\n",
        "pac_df = embedding.fit_transform(scaled_df, init=\"pca\")"
      ]
    },
    {
      "cell_type": "markdown",
      "metadata": {
        "id": "NEWKcudDZO8h"
      },
      "source": [
        "## 4.2 K-Means  \n",
        "### 4.2.1 엘보우 및 실루엣 점수 확인\n",
        "- **n_clusters 수 선정**"
      ]
    },
    {
      "cell_type": "code",
      "execution_count": null,
      "metadata": {
        "colab": {
          "base_uri": "https://localhost:8080/",
          "height": 1000
        },
        "id": "RuOEvcOwLKy0",
        "outputId": "84e1ca01-681b-4c6b-968d-ef6b0030bf32"
      },
      "outputs": [],
      "source": [
        "from sklearn.metrics import silhouette_score\n",
        "from sklearn.cluster import KMeans\n",
        "import matplotlib.pyplot as plt\n",
        "\n",
        "\n",
        "# 엘보우 방법 적용\n",
        "wcss = []\n",
        "for n_clusters in range(1, 11):\n",
        "    kmeans = KMeans(n_clusters=n_clusters, random_state=42)\n",
        "    kmeans.fit(pac_df)\n",
        "    wcss.append(kmeans.inertia_)\n",
        "\n",
        "plt.figure(figsize=(8, 5))\n",
        "plt.plot(range(1, 11), wcss, marker='o', linestyle='--')\n",
        "plt.title('Elbow Method for Optimal Number of Clusters')\n",
        "plt.xlabel('Number of Clusters')\n",
        "plt.ylabel('WCSS (Within-Cluster Sum of Squares)')\n",
        "plt.grid(True)\n",
        "plt.show()\n",
        "\n",
        "# 실루엣 점수 계산\n",
        "silhouette_scores = []\n",
        "for n_clusters in range(2, 11):\n",
        "    kmeans = KMeans(n_clusters=n_clusters, random_state=42)\n",
        "    cluster_labels = kmeans.fit_predict(pac_df)\n",
        "    silhouette_avg = silhouette_score(pac_df, cluster_labels)\n",
        "    silhouette_scores.append(silhouette_avg)\n",
        "\n",
        "plt.figure(figsize=(8, 5))\n",
        "plt.plot(range(2, 11), silhouette_scores, marker='o', linestyle='--')\n",
        "plt.title('Silhouette Scores for Various Numbers of Clusters')\n",
        "plt.xlabel('Number of Clusters')\n",
        "plt.ylabel('Silhouette Score')\n",
        "plt.grid(True)\n",
        "plt.show()\n"
      ]
    },
    {
      "cell_type": "code",
      "execution_count": null,
      "metadata": {
        "colab": {
          "base_uri": "https://localhost:8080/",
          "height": 135
        },
        "id": "td_lgIVKFPzD",
        "outputId": "9fe21834-51eb-4912-d674-81e389493827"
      },
      "outputs": [],
      "source": [
        "from sklearn.preprocessing import StandardScaler\n",
        "from sklearn.metrics import silhouette_samples, silhouette_score\n",
        "from sklearn.cluster import KMeans\n",
        "import matplotlib.pyplot as plt\n",
        "import matplotlib.cm as cm\n",
        "import numpy as np\n",
        "\n",
        "# 데이터 표준화\n",
        "# scaler = StandardScaler()\n",
        "# scaled_df = scaler.fit_transform(df2)\n",
        "\n",
        "# 클러스터 갯수를 리스트로 받아 실루엣 시각화 함수\n",
        "def visualize_silhouette_kmeans(cluster_lists, X_features):\n",
        "    n_cols = len(cluster_lists)\n",
        "    fig, axs = plt.subplots(figsize=(4*n_cols, 4), nrows=1, ncols=n_cols)\n",
        "\n",
        "    for ind, n_cluster in enumerate(cluster_lists):\n",
        "        # KMeans 모델 생성 및 학습\n",
        "        kmeans = KMeans(n_clusters=n_cluster, random_state=42, n_init=10)\n",
        "        cluster_labels = kmeans.fit_predict(X_features)\n",
        "\n",
        "        # 실루엣 점수 계산\n",
        "        sil_avg = silhouette_score(X_features, cluster_labels, metric='euclidean')\n",
        "        sil_values = silhouette_samples(X_features, cluster_labels)\n",
        "\n",
        "        y_lower = 10\n",
        "        axs[ind].set_title(f'Number of Cluster: {n_cluster}\\nSilhouette Score: {round(sil_avg, 3)}')\n",
        "        axs[ind].set_xlabel(\"The silhouette coefficient values\")\n",
        "        axs[ind].set_ylabel(\"Cluster label\")\n",
        "        axs[ind].set_xlim([-0.1, 1])\n",
        "        axs[ind].set_ylim([0, len(X_features) + (n_cluster + 1) * 10])\n",
        "        axs[ind].set_yticks([])  # y축 레이블 제거\n",
        "        axs[ind].set_xticks([0, 0.2, 0.4, 0.6, 0.8, 1])\n",
        "\n",
        "        for i in range(n_cluster):\n",
        "            ith_cluster_sil_values = sil_values[cluster_labels == i]\n",
        "            ith_cluster_sil_values.sort()\n",
        "\n",
        "            size_cluster_i = ith_cluster_sil_values.shape[0]\n",
        "            y_upper = y_lower + size_cluster_i\n",
        "\n",
        "            color = cm.nipy_spectral(float(i) / n_cluster)\n",
        "            axs[ind].fill_betweenx(np.arange(y_lower, y_upper), 0, ith_cluster_sil_values,\n",
        "                                   facecolor=color, edgecolor=color, alpha=0.7)\n",
        "            axs[ind].text(-0.05, y_lower + 0.5 * size_cluster_i, str(i))\n",
        "            y_lower = y_upper + 10\n",
        "\n",
        "        axs[ind].axvline(x=sil_avg, color=\"red\", linestyle=\"--\")\n",
        "\n",
        "    plt.tight_layout()\n",
        "    plt.show()\n",
        "\n",
        "# 실루엣 시각화 함수 호출\n",
        "visualize_silhouette_kmeans(range(2,11), pac_df)\n"
      ]
    },
    {
      "cell_type": "code",
      "execution_count": null,
      "metadata": {
        "id": "UBj9FOJiIkE6"
      },
      "outputs": [],
      "source": [
        "### 여러개의 클러스터링 갯수를 List로 입력 받아 각각의 클러스터링 결과를 시각화\n",
        "def visualize_kmeans_plot_multi(cluster_lists, X_features):\n",
        "\n",
        "    from sklearn.cluster import KMeans\n",
        "    from sklearn.decomposition import PCA\n",
        "    import pandas as pd\n",
        "    import numpy as np\n",
        "\n",
        "    # plt.subplots()으로 리스트에 기재된 클러스터링 만큼의 sub figures를 가지는 axs 생성\n",
        "    n_cols = len(cluster_lists)\n",
        "    fig, axs = plt.subplots(figsize=(4*n_cols, 4), nrows=1, ncols=n_cols)\n",
        "\n",
        "    # 입력 데이터의 FEATURE가 여러개일 경우 2차원 데이터 시각화가 어려우므로 PCA 변환하여 2차원 시각화\n",
        "    pca = PCA(n_components=2)\n",
        "    pca_transformed = pca.fit_transform(X_features)\n",
        "    dataframe = pd.DataFrame(pca_transformed, columns=['PCA1','PCA2'])\n",
        "\n",
        "     # 리스트에 기재된 클러스터링 갯수들을 차례로 iteration 수행하면서 KMeans 클러스터링 수행하고 시각화\n",
        "    for ind, n_cluster in enumerate(cluster_lists):\n",
        "\n",
        "        # KMeans 클러스터링으로 클러스터링 결과를 dataframe에 저장.\n",
        "        clusterer = KMeans(n_clusters = n_cluster, max_iter=500, random_state=0)\n",
        "        cluster_labels = clusterer.fit_predict(pca_transformed)\n",
        "        dataframe['cluster']=cluster_labels\n",
        "\n",
        "        unique_labels = np.unique(clusterer.labels_)\n",
        "        markers=['o', 's', '^', 'x', '*','o','s','^','x']\n",
        "\n",
        "        # 클러스터링 결과값 별로 scatter plot 으로 시각화\n",
        "        for label in unique_labels:\n",
        "            label_df = dataframe[dataframe['cluster']==label]\n",
        "            if label == -1:\n",
        "                cluster_legend = 'Noise'\n",
        "            else :\n",
        "                cluster_legend = 'Cluster '+str(label)\n",
        "            axs[ind].scatter(x=label_df['PCA1'], y=label_df['PCA2'], s=70,\\\n",
        "                        edgecolor='k', marker=markers[label], label=cluster_legend)\n",
        "\n",
        "        axs[ind].set_title('Number of Cluster : '+ str(n_cluster))\n",
        "        axs[ind].legend(loc='upper right')\n",
        "\n",
        "    plt.show()"
      ]
    },
    {
      "cell_type": "markdown",
      "metadata": {
        "id": "7SIfpA5QZctf"
      },
      "source": [
        "## 4.2.2 K-Means Clustering  "
      ]
    },
    {
      "cell_type": "code",
      "execution_count": null,
      "metadata": {
        "colab": {
          "base_uri": "https://localhost:8080/",
          "height": 731
        },
        "id": "RZDXvE1ubzVq",
        "outputId": "1126c94a-3457-486b-a411-e0f30b4cfbe6"
      },
      "outputs": [],
      "source": [
        "from sklearn.cluster import KMeans\n",
        "\n",
        "# K-means 클러스터링 적용\n",
        "kmeans = KMeans(n_clusters=4)  # 클러스터 수를 적절히 설정하세요\n",
        "clusters = kmeans.fit_predict(pac_df)\n",
        "\n",
        "# 클러스터링 결과 시각화\n",
        "plt.figure(figsize=(10, 7))\n",
        "scatter = plt.scatter(pac_df[:, 0], pac_df[:, 1], c=clusters, cmap='viridis', s=50)\n",
        "plt.colorbar(scatter, label='Cluster Label')\n",
        "plt.title('PaCMAP Dimension Reduction with K-means Clustering')\n",
        "plt.xlabel('PaCMAP Dimension 1')\n",
        "plt.ylabel('PaCMAP Dimension 2')\n",
        "plt.show()\n",
        "\n"
      ]
    },
    {
      "cell_type": "markdown",
      "metadata": {
        "id": "SB7KfaylZxaQ"
      },
      "source": [
        "# 5. 카드 선정"
      ]
    },
    {
      "cell_type": "markdown",
      "metadata": {
        "id": "IScSC3oQZ8ux"
      },
      "source": [
        "### 5.1. 가중치"
      ]
    },
    {
      "cell_type": "code",
      "execution_count": null,
      "metadata": {
        "id": "C-MW_pFwb2ok"
      },
      "outputs": [],
      "source": [
        "weights = {\n",
        "    '교통': 1.0,\n",
        "    '온라인결제' : 1.3,\n",
        "    # '기기': 1.0,\n",
        "    # '기타': 0.8,\n",
        "    '독서실': 1.0,\n",
        "    '병원': 1.1,\n",
        "    '쇼핑': 1.3,\n",
        "    '문화': 1.0,\n",
        "    '음식점': 0.9,\n",
        "    '서점': 1.2,\n",
        "    '카페': 0.9,\n",
        "    '여행': 1.0,\n",
        "    '동물병원': 1.0,\n",
        "    '영화' : 1.0,\n",
        "    '스포츠' : 1.0,\n",
        "    '미용실' : 1.0,\n",
        "    '편의점' : 1.2,\n",
        "    '학원' : 1.0,\n",
        "    '이동통신' : 1.2,\n",
        "    '세탁소' : 1.2,\n",
        "    # '항공사' : 1.0,\n",
        "    '숙박' : 1.0,\n",
        "    '배달': 1.0,\n",
        "    '해외결제':1.0,\n",
        "    '대형마트':1.0,\n",
        "    'OTT구독': 1.0,\n",
        "    '해외직구':1.0,\n",
        "    '테마파크':1.2\n",
        "}\n"
      ]
    },
    {
      "cell_type": "markdown",
      "metadata": {
        "id": "_rlINIU_aAWo"
      },
      "source": [
        "### 5.2 카드 혜택 여부 데이터"
      ]
    },
    {
      "cell_type": "code",
      "execution_count": null,
      "metadata": {
        "id": "_NMNSfs-EVx1"
      },
      "outputs": [],
      "source": [
        "card_df4 = pd.DataFrame({\n",
        "    'CardID' : [1, 2, 3, 4, 5, 6, 7, 8,9],\n",
        "    'CardName' : ['트래블','첵첵','노리2','노리2Global','우리동네','노리','청춘대로','골든대로','훈'],\n",
        "    '쇼핑' :   [0,1,0,0,0,0,0,1,0],\n",
        "    '카페' :   [0,1,0,1,0,0,0,0,0],\n",
        "    '음식점' : [0,0,0,0,0,1,0,0,0],\n",
        "    '숙박' :   [0,0,0,0,0,0,0,0,0],\n",
        "    '서점' :   [0,1,0,0,0,1,1,0,1],\n",
        "    '온라인결제' : [1,1,1,0,0,0,0,0,0],\n",
        "    '교통' :   [0,1,0,0,0,1,1,0,1],\n",
        "    '미용실' : [0,0,0,1,0,0,0,0,0],\n",
        "    '병원' :   [0,0,0,0,0,0,0,1,1],\n",
        "    '주유소' : [0,0,0,0,0,0,0,1,0],\n",
        "    '화장품' : [0,1,1,1,0,0,0,0,0],\n",
        "    '편의점' : [0,1,1,1,0,1,0,0,0],\n",
        "    '주차장' : [1,0,0,0,0,0,0,0,0],\n",
        "    '문화' :   [0,1,1,1,0,0,0,0,0],\n",
        "    '이동통신'   : [0,0,1,1,0,1,0,0,0],\n",
        "    '학원' :   [0,0,0,0,0,0,1,0,1],\n",
        "    '스포츠' : [0,0,0,0,0,0,0,1,0],\n",
        "    '동물병원': [0,0,0,0,0,0,1,0,1],\n",
        "    '세탁소' : [0,0,0,0,1,0,0,0,0],\n",
        "    '영화'   : [0,1,1,1,0,1,0,0,0],\n",
        "    # '부동산' : [0,0,0,0,0,0,0,0,0],\n",
        "    # '자동차' : [0,0,0,0,0,0,0,0,0],\n",
        "    '해외직구' : [0,0,0,0,0,0,1,0,0],\n",
        "    '택시' : [0,0,0,0,0,0,1,0,0],\n",
        "    '테마파크' : [0,0,1,1,0,0,0,0,0],\n",
        "    # '항공사' : [0,0,0,0,0,0,1,0,0],\n",
        "    '배달': [0,0,0,1,1,0,0,0,0],\n",
        "    '해외결제':[1,0,0,1,0,0,0,0,0],\n",
        "    '대형마트':[0,0,0,0,0,0,0,1,0],\n",
        "    'OTT구독': [0,0,0,1,1,0,0,0,0]\n",
        "\n",
        " })"
      ]
    },
    {
      "cell_type": "code",
      "execution_count": null,
      "metadata": {
        "id": "Ve8Izd4Q9W9z"
      },
      "outputs": [],
      "source": [
        "card_df1 = pd.DataFrame({\n",
        "    'CardID' : [10,11,12,13,14,15,16,17],\n",
        "    'CardName' : [\"MyWESH_먹는데진심\", \"MyWESH_노는데진심\",\"MyWESH_관리에진심\",\"다담_생활\", \"다담_교육\",\"다담_쇼핑\" ,\"다담_직장인\",\"다담_레저\" ],\n",
        "    '쇼핑' :   [0,1,0,1,0,1,0,1],\n",
        "    '카페' :   [1,0,0,0,0,0,1,0],\n",
        "    '음식점' : [1,0,0,0,0,0,0,0],\n",
        "    '숙박' :   [0,0,0,0,0,0,0,0],\n",
        "    '서점' :   [0,0,1,0,1,0,0,0],\n",
        "    '온라인결제' : [0,0,0,0,0,1,0,0],\n",
        "    '교통' :   [0,1,0,0,0,0,1,0],\n",
        "    '미용실' : [0,0,1,1,0,0,0,0],\n",
        "    '병원' :   [0,0,0,0,0,0,0,1],\n",
        "    '주유소' : [0,0,0,1,1,1,1,1],\n",
        "    '화장품' : [0,1,1,1,0,0,0,0],\n",
        "    '편의점' : [0,1,1,1,0,1,1,0],\n",
        "    '주차장' : [1,0,0,0,0,0,0,0],\n",
        "    '문화' :   [0,1,1,1,0,0,0,1],\n",
        "    '이동통신'   : [1,1,1,1,1,1,1,0],\n",
        "    '학원' :   [0,0,0,0,1,0,1,0],\n",
        "    '스포츠' : [0,0,1,0,0,0,0,1],\n",
        "    '동물병원': [0,0,0,0,0,0,1,0],\n",
        "    '세탁소' : [0,0,0,0,1,0,0,0],\n",
        "    '영화'   : [0,1,0,0,0,0,0,0],\n",
        "    # '부동산' : [0,0,0,0,0,0,0,0],\n",
        "    # '자동차' : [0,0,0,0,0,0,0,0],\n",
        "    '해외직구' : [0,0,0,0,0,0,0,1],\n",
        "    '택시' :     [0,1,0,0,0,0,1,0],\n",
        "    '테마파크' : [0,0,0,1,0,0,0,0],\n",
        "    # '항공사' : [0,0,0,0,0,0,1,0],\n",
        "    '배달':    [1,0,0,0,0,0,0,0],\n",
        "    '해외결제':[0,0,0,1,1,1,1,1],\n",
        "    '대형마트':[0,0,0,1,0,0,0,0],\n",
        "    'OTT구독': [1,1,1,0,0,0,0,0]\n",
        "\n",
        "})"
      ]
    },
    {
      "cell_type": "code",
      "execution_count": null,
      "metadata": {
        "id": "5PC5mNtpAqZK"
      },
      "outputs": [],
      "source": [
        "card_df2 = pd.DataFrame({\n",
        "    'CardID' : [18,19,20,21],\n",
        "    'CardName' : [ \"EasyAll티타늄_A\", \"EasyAll티타늄_B\",\"EasyAll티타늄_C\", \"EasyAll티타늄_D\" ],\n",
        "    '쇼핑' :   [0,0,1,1],\n",
        "    '카페' :   [0,0,0,1],\n",
        "    '음식점' : [1,0,0,0],\n",
        "    '숙박' :   [0,0,0,0],\n",
        "    '서점' :   [0,0,0,0],\n",
        "    '온라인결제' : [0,1,0,0],\n",
        "    '교통' :   [0,1,0,0],\n",
        "    '미용실' : [0,0,0,1],\n",
        "    '병원' :   [1,0,0,0],\n",
        "    '주유소' : [0,1,0,1],\n",
        "    '화장품' : [0,0,1,0],\n",
        "    '편의점' : [0,1,0,0],\n",
        "    '주차장' : [0,0,0,0],\n",
        "    '문화' :   [0,0,0,1],\n",
        "    '이동통신'   : [0,1,0,1],\n",
        "    '학원' :   [1,0,0,0],\n",
        "    '스포츠' : [0,0,1,0],\n",
        "    '동물병원': [0,0,0,0],\n",
        "    '세탁소' : [0,0,0,0],\n",
        "    '영화'   : [0,0,0,1],\n",
        "    # '부동산' : [0,0,0,0],\n",
        "    # '자동차' : [0,0,0,0],\n",
        "    '해외직구' : [0,0,0,0],\n",
        "    '택시' :   [0,0,0,1],\n",
        "    '테마파크' : [0,0,0,0],\n",
        "    # '항공사' : [0,0,0,0],\n",
        "    '배달':    [0,0,0,1],\n",
        "    '해외결제':[1,0,0,0],\n",
        "    '대형마트':[0,1,0,0],\n",
        "    'OTT구독': [0,0,0,1]\n",
        "\n",
        "})"
      ]
    },
    {
      "cell_type": "code",
      "execution_count": null,
      "metadata": {
        "id": "1sy0aH4AER-i"
      },
      "outputs": [],
      "source": [
        "card_df3 = pd.DataFrame({\n",
        "    'CardID' : [22,23],\n",
        "    'CardName' : ['굿데이올림카드', 'BeVV카드' ],\n",
        "    '쇼핑' :   [0,1],\n",
        "    '카페' :   [0,0],\n",
        "    '음식점' : [0,0],\n",
        "    '숙박' :   [0,1],\n",
        "    '서점' :   [0,0],\n",
        "    '온라인결제' : [0,0],\n",
        "    '교통' :   [1,0],\n",
        "    '미용실' : [0,0],\n",
        "    '병원' :   [1,0],\n",
        "    '주유소' : [1,0],\n",
        "    '화장품' : [0,0],\n",
        "    '편의점' : [1,0],\n",
        "    '주차장' : [0,0],\n",
        "    '문화' :   [0,0],\n",
        "    '이동통신'   : [1,0],\n",
        "    '학원' :   [1,0],\n",
        "    '스포츠' : [0,1],\n",
        "    '동물병원': [0,0],\n",
        "    '세탁소' : [0,0],\n",
        "    '영화'   : [0,1],\n",
        "    # '부동산' : [0,0],\n",
        "    # '자동차' : [0,0],\n",
        "    '해외직구' : [1,0],\n",
        "    '택시' :   [0,0],\n",
        "    '테마파크' : [0,0],\n",
        "    # '항공사' : [0,0],\n",
        "    '배달':    [0,0],\n",
        "    '해외결제':[1,0],\n",
        "    '대형마트':[1,0],\n",
        "    'OTT구독': [0,0]\n",
        "\n",
        "})"
      ]
    },
    {
      "cell_type": "code",
      "execution_count": null,
      "metadata": {
        "colab": {
          "base_uri": "https://localhost:8080/",
          "height": 656
        },
        "id": "foKfXvZaHVpn",
        "outputId": "c7a9bb6a-58ca-486e-a9ce-98e485832a2c"
      },
      "outputs": [],
      "source": [
        "card_df = pd.concat([card_df1, card_df2,card_df3], axis = 0)  #열방향 연결, 데이터프레임\n",
        "card_df"
      ]
    },
    {
      "cell_type": "markdown",
      "metadata": {
        "id": "s6MO21s6aIVJ"
      },
      "source": [
        "## 5.3 카드 추천  \n",
        "### 5.3.1 카드 추천 점수 계산"
      ]
    },
    {
      "cell_type": "code",
      "execution_count": null,
      "metadata": {
        "colab": {
          "base_uri": "https://localhost:8080/",
          "height": 219
        },
        "id": "Kr4_mu6Bq4fL",
        "outputId": "67f0addf-6aca-4175-9118-5903d4418849"
      },
      "outputs": [],
      "source": [
        "\n",
        "# 점수 계산 함수\n",
        "\n",
        "df_sum2['cluster'] = kmeans.fit_predict(pac_df)\n",
        "\n",
        "\n",
        "cluster_means = df_sum2.groupby('cluster').mean()\n",
        "cluster_means\n",
        "\n",
        "def weighted_sum_score(cluster_mean, card, weights):\n",
        "    return sum(cluster_mean[feature] * card[feature] * weights.get(feature, 1) for feature in card.index[2:])\n",
        "\n",
        "\n",
        "# 중복 추천 함수 (상위 N개 카드 추천)\n",
        "def recommend_top_n_cards(cluster_mean, card_df, weights, n=3):\n",
        "\n",
        "\n",
        "    recommendations = {}\n",
        "    for cluster, mean_values in cluster_mean.iterrows():\n",
        "        scores = []\n",
        "        for _, card in card_df.iterrows():\n",
        "            score = weighted_sum_score(mean_values, card, weights)\n",
        "\n",
        "            scores.append((card['CardID'], card['CardName'], score))\n",
        "        # 상위 N개 카드 추천\n",
        "        top_n_cards = sorted(scores, key=lambda x: x[2], reverse=True)[:n]\n",
        "        recommendations[cluster] = top_n_cards\n",
        "    return recommendations\n",
        "\n",
        "# 각 클러스터에 대해 상위 3개 카드 추천\n",
        "top_n_recommendations = recommend_top_n_cards(cluster_means, card_df, weights, n=3)\n"
      ]
    },
    {
      "cell_type": "markdown",
      "metadata": {
        "id": "s9hTKZQkaj26"
      },
      "source": [
        "### 5.3.1 클러스터 별 카드 추천 확인"
      ]
    },
    {
      "cell_type": "code",
      "execution_count": null,
      "metadata": {
        "id": "rP4FjLf1agXJ"
      },
      "outputs": [],
      "source": [
        "# 결과 출력\n",
        "print(\"Cluster Means:\")\n",
        "print(cluster_means)\n",
        "print(\"\\nTop N Recommendations:\")\n",
        "for cluster, cards in top_n_recommendations.items():\n",
        "    print(f\"Cluster {cluster}:\")\n",
        "    for card in cards:\n",
        "        print(f\"  Recommend {card[1]} (Card ID: {card[0]}) with score {card[2]}\")"
      ]
    },
    {
      "cell_type": "code",
      "execution_count": null,
      "metadata": {
        "colab": {
          "base_uri": "https://localhost:8080/"
        },
        "id": "-jyijiZiRJRL",
        "outputId": "53c1239e-ef30-4e5f-c037-6ac7b87dd51c"
      },
      "outputs": [],
      "source": [
        "for cluster, cards in top_n_recommendations.items():\n",
        "    print(f\"Cluster {cluster}:\")\n",
        "    for card in cards:\n",
        "        print(f\"  Recommend {card[1]}\")"
      ]
    },
    {
      "cell_type": "markdown",
      "metadata": {
        "id": "Dl03b1jmaqFY"
      },
      "source": [
        "# 6. 특정 사용자에게 카드 추천  \n",
        "## 6.1. 사용자 소비패턴과 클러스터 유사도 확인"
      ]
    },
    {
      "cell_type": "code",
      "execution_count": null,
      "metadata": {
        "id": "WyM4Qu7-AJCl"
      },
      "outputs": [],
      "source": [
        "individual_card_df = df_sum2.loc[10]\n",
        "\n",
        "individual_df = individual_card_df.to_frame().T\n",
        "individual_mean = individual_df.drop('cluster',axis=1)"
      ]
    },
    {
      "cell_type": "code",
      "execution_count": null,
      "metadata": {
        "colab": {
          "base_uri": "https://localhost:8080/"
        },
        "id": "phaOuBhZUcTx",
        "outputId": "6d68f46b-fce4-4c8e-8368-464a312edcac"
      },
      "outputs": [],
      "source": [
        "individual_card_df"
      ]
    },
    {
      "cell_type": "code",
      "execution_count": null,
      "metadata": {
        "colab": {
          "base_uri": "https://localhost:8080/"
        },
        "id": "93X4qv2pUt_g",
        "outputId": "58a7f31c-4b0f-4742-e602-2feb7c4cf89c"
      },
      "outputs": [],
      "source": [
        "from sklearn.metrics.pairwise import cosine_similarity\n",
        "\n",
        "# 클러스터 평균 데이터와 개인 소비 패턴 벡터화\n",
        "cluster_means_array = cluster_means.values\n",
        "individual_mean_array = individual_mean.values.reshape(1,-1)\n",
        "\n",
        "# 코사인 유사도 계산\n",
        "similarity_scores = cosine_similarity(cluster_means_array, individual_mean_array).flatten()\n",
        "\n",
        "# 가장 유사한 클러스터 찾기\n",
        "\n",
        "most_similar_cluster = np.argmax(similarity_scores)\n",
        "\n",
        "print(f\"Most Similar Cluster: {most_similar_cluster}\")"
      ]
    },
    {
      "cell_type": "code",
      "execution_count": null,
      "metadata": {
        "id": "SNmz7zs5VTLF"
      },
      "outputs": [],
      "source": []
    }
  ],
  "metadata": {
    "colab": {
      "provenance": []
    },
    "kernelspec": {
      "display_name": "Python 3",
      "name": "python3"
    },
    "language_info": {
      "name": "python"
    }
  },
  "nbformat": 4,
  "nbformat_minor": 0
}
