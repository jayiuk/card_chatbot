{
  "cells": [
    {
      "cell_type": "markdown",
      "metadata": {
        "id": "YkeUe_EiQe5o"
      },
      "source": [
        "# 1. Library Import"
      ]
    },
    {
      "cell_type": "code",
      "execution_count": null,
      "metadata": {
        "id": "q2dLriywQNIb"
      },
      "outputs": [],
      "source": [
        "import pandas as pd\n",
        "import numpy as np\n",
        "import seaborn as sns\n",
        "import matplotlib.pyplot as plt\n"
      ]
    },
    {
      "cell_type": "markdown",
      "metadata": {
        "id": "OGyMjyiQQisn"
      },
      "source": [
        "# 2. 데이터 불러오기"
      ]
    },
    {
      "cell_type": "code",
      "execution_count": null,
      "metadata": {
        "id": "15RCohCmQa44"
      },
      "outputs": [],
      "source": [
        "df_transactions = pd.read_csv('/content/drive/MyDrive/Colab Notebooks/KB/card_transaction2.csv')\n",
        "\n",
        "card_benefit_df = pd.read_csv('/content/drive/MyDrive/Colab Notebooks/KB/card2.csv')"
      ]
    },
    {
      "cell_type": "code",
      "execution_count": null,
      "metadata": {
        "colab": {
          "base_uri": "https://localhost:8080/",
          "height": 423
        },
        "id": "A99vA7edvV0u",
        "outputId": "20c17b48-208d-4724-f096-159472f30d97"
      },
      "outputs": [],
      "source": [
        "df_transactions"
      ]
    },
    {
      "cell_type": "code",
      "execution_count": null,
      "metadata": {
        "colab": {
          "base_uri": "https://localhost:8080/"
        },
        "id": "urd3b8nx5C6h",
        "outputId": "15a3a0e0-64fd-4e56-ce07-9c446438c8dc"
      },
      "outputs": [],
      "source": [
        "%matplotlib inline\n",
        "\n",
        "import matplotlib as mpl  # 기본 설정\n",
        "import matplotlib.pyplot as plt  # 그래프 그리기\n",
        "import matplotlib.font_manager as fm  # 폰트 관리\n",
        "\n",
        "\n",
        "!apt-get update -qq         # apt-get 패키지 설치 명령어, -qq : 에러외 메세지 숨기기\n",
        "!apt-get install fonts-nanum* -qq #나눔글꼴 설치\n",
        "\n",
        "fe = fm.FontEntry(fname=r'/usr/share/fonts/truetype/nanum/NanumGothic.ttf', name='NanumGothic') #파일 저장되어있는 경로와 이름 설정\n",
        "fm.fontManager.ttflist.insert(0, fe)  # Matplotlib에 폰트 추가\n",
        "plt.rcParams.update({'font.size': 10, 'font.family': 'NanumGothic'}) #폰트설정\n",
        "\n"
      ]
    },
    {
      "cell_type": "markdown",
      "metadata": {
        "id": "AdpNWMGpQz_n"
      },
      "source": [
        "# 3. 데이터 확인 및 전처리"
      ]
    },
    {
      "cell_type": "code",
      "execution_count": null,
      "metadata": {
        "colab": {
          "base_uri": "https://localhost:8080/",
          "height": 235
        },
        "id": "miOgLbnHqhGx",
        "outputId": "1f4e4360-005c-4073-9d1f-402a9dda39b2"
      },
      "outputs": [],
      "source": [
        "df_transactions.head()"
      ]
    },
    {
      "cell_type": "code",
      "execution_count": null,
      "metadata": {
        "id": "g6A1DjRDrCsn"
      },
      "outputs": [],
      "source": [
        "df_transactions['날짜'] = pd.to_datetime(df_transactions['날짜'])\n"
      ]
    },
    {
      "cell_type": "code",
      "execution_count": null,
      "metadata": {
        "id": "5iN_sLcerGws"
      },
      "outputs": [],
      "source": [
        "card_benefit = card_benefit_df.groupby(['카드명','혜택 카테고리']).mean().reset_index()\n"
      ]
    },
    {
      "cell_type": "code",
      "execution_count": null,
      "metadata": {
        "id": "fZJuHLhRNVhy"
      },
      "outputs": [],
      "source": [
        "card_benefit.drop(card_benefit.loc[card_benefit['혜택 카테고리'].isin(['음식점','편의점'])].index,inplace=True)"
      ]
    },
    {
      "cell_type": "code",
      "execution_count": null,
      "metadata": {
        "colab": {
          "base_uri": "https://localhost:8080/",
          "height": 423
        },
        "id": "lsa3GLIgA3_o",
        "outputId": "48bdd94a-cd27-45c2-d4e7-b058637909f8"
      },
      "outputs": [],
      "source": [
        "card_benefit"
      ]
    },
    {
      "cell_type": "markdown",
      "metadata": {
        "id": "Dj708yJvbflX"
      },
      "source": [
        "# 4. 고객, 카드, 혜택 카테고리별 Count"
      ]
    },
    {
      "cell_type": "code",
      "execution_count": null,
      "metadata": {
        "colab": {
          "base_uri": "https://localhost:8080/",
          "height": 480
        },
        "id": "0G00HfiACgJN",
        "outputId": "17776646-838a-4886-aafc-5c44045685bd"
      },
      "outputs": [],
      "source": [
        "# 카테고리별 이용 횟수를 계산하기 위한 데이터프레임 생성\n",
        "df_counts = pd.DataFrame(columns=['고객번호', '카드명', '혜택 카테고리', '이용 횟수','CREDIT분류'])\n",
        "\n",
        "# 각 고객에 대해 혜택 카테고리별 이용 횟수 계산\n",
        "rows_to_add = []\n",
        "for idx, row in df_transactions.iterrows():\n",
        "    고객번호 = row['고객번호']\n",
        "    for benefit_idx, benefit_row in card_benefit.iterrows():\n",
        "        카드명 = benefit_row['카드명']\n",
        "        혜택_카테고리 = benefit_row['혜택 카테고리']\n",
        "        신용카드분류 = benefit_row['Credit']\n",
        "        if row.get(혜택_카테고리, 0) > 0:\n",
        "            rows_to_add.append({\n",
        "                '고객번호': 고객번호,\n",
        "                '카드명': 카드명,\n",
        "                'CREDIT분류': 신용카드분류,\n",
        "                '혜택 카테고리': 혜택_카테고리,\n",
        "                '이용 횟수': 1\n",
        "            })\n",
        "\n",
        "# DataFrame으로 변환 후 concat\n",
        "df_counts = pd.concat([df_counts, pd.DataFrame(rows_to_add)], ignore_index=True)\n",
        "\n",
        "# 결과 출력\n",
        "df_counts"
      ]
    },
    {
      "cell_type": "code",
      "execution_count": null,
      "metadata": {
        "colab": {
          "base_uri": "https://localhost:8080/",
          "height": 455
        },
        "id": "ycf40Gp6C1ZK",
        "outputId": "e720d903-0f7a-4bfd-dca5-d7c9523f38f0"
      },
      "outputs": [],
      "source": [
        "df_counts.groupby(['고객번호','카드명','혜택 카테고리','CREDIT분류']).sum()\n"
      ]
    },
    {
      "cell_type": "code",
      "execution_count": null,
      "metadata": {
        "colab": {
          "base_uri": "https://localhost:8080/",
          "height": 423
        },
        "id": "SF3cLtpGDAik",
        "outputId": "cd0b8b06-bec6-4d46-b658-0e613d1e288a"
      },
      "outputs": [],
      "source": [
        "grouped_df = df_counts.groupby(['고객번호','카드명','혜택 카테고리','CREDIT분류']).sum().reset_index()\n",
        "\n",
        "grouped_df.columns = ['고객번호', '카드명', '혜택 카테고리','CREDIT분류', '이용 횟수']\n",
        "\n",
        "\n",
        "grouped_df"
      ]
    },
    {
      "cell_type": "code",
      "execution_count": null,
      "metadata": {
        "colab": {
          "base_uri": "https://localhost:8080/"
        },
        "id": "Wc3smkRJLJHE",
        "outputId": "4925f05c-7224-4327-8bcd-59163da80511"
      },
      "outputs": [],
      "source": [
        "grouped_df.info()"
      ]
    },
    {
      "cell_type": "code",
      "execution_count": null,
      "metadata": {
        "id": "hJSHdLQgLWaq"
      },
      "outputs": [],
      "source": [
        "grouped_df['이용 횟수'] = pd.to_numeric(grouped_df['이용 횟수'])"
      ]
    },
    {
      "cell_type": "code",
      "execution_count": null,
      "metadata": {
        "colab": {
          "base_uri": "https://localhost:8080/",
          "height": 455
        },
        "id": "nVSjk-tbbgRR",
        "outputId": "39800b23-ef73-4082-e6d4-e84e33479189"
      },
      "outputs": [],
      "source": [
        "grouped_df.loc[(grouped_df['고객번호']==1)].groupby(['고객번호','카드명','혜택 카테고리','CREDIT분류']).sum().sort_values('이용 횟수',ascending=False)"
      ]
    },
    {
      "cell_type": "code",
      "execution_count": null,
      "metadata": {
        "colab": {
          "base_uri": "https://localhost:8080/",
          "height": 206
        },
        "id": "I3-DtP3Na9Ls",
        "outputId": "dc61d9c5-4d85-4f66-901b-d62dca817bfa"
      },
      "outputs": [],
      "source": [
        "grouped_df.loc[(grouped_df['고객번호']==1)].groupby(['고객번호','카드명','혜택 카테고리','CREDIT분류']).sum().nlargest(4,'이용 횟수')\n"
      ]
    },
    {
      "cell_type": "markdown",
      "metadata": {
        "id": "BwDmmL_jcDKB"
      },
      "source": [
        "# 5.카드별 혜택 총합 수"
      ]
    },
    {
      "cell_type": "code",
      "execution_count": null,
      "metadata": {
        "colab": {
          "base_uri": "https://localhost:8080/",
          "height": 455
        },
        "id": "GaquIRuvJmSC",
        "outputId": "cdd70dda-501c-468b-bd73-602e8647dbd1"
      },
      "outputs": [],
      "source": [
        "# 피벗 테이블 생성\n",
        "pivot_df = grouped_df.pivot_table(index=['고객번호','카드명','CREDIT분류'],columns='혜택 카테고리',values='이용 횟수',fill_value=0)\n",
        "\n",
        "# 컬럼 이름 정렬 (카테고리 순서 유지)\n",
        "pivot_df = pivot_df.sort_index(axis=1)\n",
        "\n",
        "pivot_df"
      ]
    },
    {
      "cell_type": "code",
      "execution_count": null,
      "metadata": {
        "colab": {
          "base_uri": "https://localhost:8080/",
          "height": 800
        },
        "id": "X5dNaRe2KMfR",
        "outputId": "6a4be473-9554-4cc7-a410-c2f501092012"
      },
      "outputs": [],
      "source": [
        "pivot_df.loc[2]"
      ]
    },
    {
      "cell_type": "code",
      "execution_count": null,
      "metadata": {
        "colab": {
          "base_uri": "https://localhost:8080/"
        },
        "id": "mhnc_FPLKTGL",
        "outputId": "ebb76d5a-8385-447a-f57e-aa420204ff5d"
      },
      "outputs": [],
      "source": [
        "row_sums = pivot_df.sum(axis=1)\n",
        "# 총합을 데이터프레임으로 변환\n",
        "row_sums_df = row_sums.reset_index(name='총합')\n",
        "\n",
        "# 고객번호와 총합으로 정렬\n",
        "sorted_row_sums = row_sums_df.sort_values(by=['고객번호', '총합'], ascending=[False, False])\n",
        "\n",
        "print(sorted_row_sums)\n",
        "\n",
        "sum_df = sorted_row_sums.sort_values(['고객번호','총합'],ascending=[True,False])\n"
      ]
    },
    {
      "cell_type": "code",
      "execution_count": null,
      "metadata": {
        "id": "nH0znsYVdmB6"
      },
      "outputs": [],
      "source": [
        "sum_df = sorted_row_sums.sort_values(['고객번호','총합'],ascending=[True,False])\n"
      ]
    },
    {
      "cell_type": "code",
      "execution_count": null,
      "metadata": {
        "colab": {
          "base_uri": "https://localhost:8080/"
        },
        "id": "m8F4lPxnlEqJ",
        "outputId": "3760a90d-e29a-4742-f318-3cc5b911674d"
      },
      "outputs": [],
      "source": [
        "sum_df.info()"
      ]
    },
    {
      "cell_type": "markdown",
      "metadata": {
        "id": "V0r2KxDxq7SR"
      },
      "source": [
        "## 5.1. **다담카드** 총합과 선택형 혜택 더하기  \n",
        "다담카드는 기본혜택 + α(선택형 혜택)이 나뉘어지기 때문에 기본혜택을 각각 선택혜택에 더해야 함"
      ]
    },
    {
      "cell_type": "code",
      "execution_count": null,
      "metadata": {
        "id": "CWxbBUWaowy5"
      },
      "outputs": [],
      "source": [
        "array_1= sum_df.loc[sum_df['카드명']=='다담'].groupby(['고객번호','카드명','CREDIT분류']).sum()['총합'].values + sum_df.loc[sum_df['카드명']=='다담_생활'].groupby(['고객번호','카드명','CREDIT분류']).sum()['총합'].values\n",
        "dd1 = array_1.tolist()\n",
        "sum_df.loc[sum_df['카드명']=='다담_생활','총합'] = dd1"
      ]
    },
    {
      "cell_type": "code",
      "execution_count": null,
      "metadata": {
        "id": "Mk51atxmpbon"
      },
      "outputs": [],
      "source": [
        "array_1= sum_df.loc[sum_df['카드명']=='다담'].groupby(['고객번호','카드명','CREDIT분류']).sum()['총합'].values[1] + sum_df.loc[sum_df['카드명']=='다담_직장인'].groupby(['고객번호','카드명','CREDIT분류']).sum()['총합'].values\n",
        "dd1 = array_1.tolist()\n",
        "sum_df.loc[sum_df['카드명']=='다담_직장인','총합'] = dd1"
      ]
    },
    {
      "cell_type": "code",
      "execution_count": null,
      "metadata": {
        "id": "tJiVxedOrMR4"
      },
      "outputs": [],
      "source": [
        "array_1= sum_df.loc[sum_df['카드명']=='다담'].groupby(['고객번호','카드명','CREDIT분류']).sum()['총합'].values[1] + sum_df.loc[sum_df['카드명']=='다담_쇼핑'].groupby(['고객번호','카드명','CREDIT분류']).sum()['총합'].values\n",
        "dd1 = array_1.tolist()\n",
        "sum_df.loc[sum_df['카드명']=='다담_쇼핑','총합'] = dd1"
      ]
    },
    {
      "cell_type": "code",
      "execution_count": null,
      "metadata": {
        "id": "BMxXvSSMrO2Q"
      },
      "outputs": [],
      "source": [
        "array_1= sum_df.loc[sum_df['카드명']=='다담'].groupby(['고객번호','카드명','CREDIT분류']).sum()['총합'].values + sum_df.loc[sum_df['카드명']=='다담_레저'].groupby(['고객번호','카드명','CREDIT분류']).sum()['총합'].values\n",
        "dd1 = array_1.tolist()\n",
        "sum_df.loc[sum_df['카드명']=='다담_레저','총합'] = dd1"
      ]
    },
    {
      "cell_type": "code",
      "execution_count": null,
      "metadata": {
        "id": "jmxFY2IIrRow"
      },
      "outputs": [],
      "source": [
        "array_1= sum_df.loc[sum_df['카드명']=='다담'].groupby(['고객번호','카드명','CREDIT분류']).sum()['총합'].values[1] + sum_df.loc[sum_df['카드명']=='다담_교육'].groupby(['고객번호','카드명','CREDIT분류']).sum()['총합'].values\n",
        "dd1 = array_1.tolist()\n",
        "sum_df.loc[sum_df['카드명']=='다담_교육','총합'] = dd1"
      ]
    },
    {
      "cell_type": "code",
      "execution_count": null,
      "metadata": {
        "colab": {
          "base_uri": "https://localhost:8080/"
        },
        "id": "IJvtJYpyn8Ir",
        "outputId": "f3fc98a6-5936-4747-9e86-91ebb0bd1666"
      },
      "outputs": [],
      "source": [
        "sum_df.loc[sum_df['카드명']=='다담'].groupby(['고객번호','카드명','CREDIT분류']).sum()['총합'].values"
      ]
    },
    {
      "cell_type": "code",
      "execution_count": null,
      "metadata": {
        "id": "lwg8FYNKdOjR"
      },
      "outputs": [],
      "source": [
        "sum_df = sum_df.loc[sum_df['카드명'] != '다담']"
      ]
    },
    {
      "cell_type": "code",
      "execution_count": null,
      "metadata": {
        "colab": {
          "base_uri": "https://localhost:8080/",
          "height": 739
        },
        "id": "bWWsZFJTdoFp",
        "outputId": "5756215f-db87-4e07-f035-a7407c43bc68"
      },
      "outputs": [],
      "source": [
        "sum_df.loc[sum_df['고객번호']==40]\n"
      ]
    },
    {
      "cell_type": "code",
      "execution_count": null,
      "metadata": {
        "colab": {
          "base_uri": "https://localhost:8080/",
          "height": 708
        },
        "id": "FTHIXCCLdViY",
        "outputId": "22677db3-7ac4-40d1-c138-bfd3d5e57e0c"
      },
      "outputs": [],
      "source": [
        "sum_df.loc[sum_df['고객번호']==40]\n"
      ]
    },
    {
      "cell_type": "code",
      "execution_count": null,
      "metadata": {
        "id": "g-f0U4UDd835"
      },
      "outputs": [],
      "source": [
        "sum_df.loc[sum_df['고객번호']==2].sort_values('총합',ascending=False)\n"
      ]
    },
    {
      "cell_type": "code",
      "execution_count": null,
      "metadata": {
        "id": "-GUVUJwId9cR"
      },
      "outputs": [],
      "source": []
    }
  ],
  "metadata": {
    "colab": {
      "provenance": []
    },
    "kernelspec": {
      "display_name": "Python 3",
      "name": "python3"
    },
    "language_info": {
      "codemirror_mode": {
        "name": "ipython",
        "version": 3
      },
      "file_extension": ".py",
      "mimetype": "text/x-python",
      "name": "python",
      "nbconvert_exporter": "python",
      "pygments_lexer": "ipython3",
      "version": "3.11.7"
    }
  },
  "nbformat": 4,
  "nbformat_minor": 0
}
